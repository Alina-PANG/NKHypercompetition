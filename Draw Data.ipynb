{
 "cells": [
  {
   "cell_type": "code",
   "execution_count": 7,
   "metadata": {},
   "outputs": [],
   "source": [
    "import pandas as pd"
   ]
  },
  {
   "cell_type": "code",
   "execution_count": 9,
   "metadata": {},
   "outputs": [
    {
     "name": "stdout",
     "output_type": "stream",
     "text": [
      "  time iterations      inf       inFile           outFile components\n",
      "0    1          3  matrix0  in/in1.conf  out/out1_1.txt\\n          2\n",
      "1    1          3  matrix0  in/in1.conf  out/out1_1.txt\\n          3\n",
      "2    1          3  matrix0  in/in1.conf  out/out1_1.txt\\n          2\n",
      "3    1          3  matrix0  in/in1.conf  out/out1_1.txt\\n          5\n",
      "4    1          3  matrix0  in/in1.conf  out/out1_1.txt\\n          2\n",
      "5    1          3  matrix0  in/in1.conf  out/out1_1.txt\\n          4\n",
      "6    1          3  matrix0  in/in1.conf  out/out1_1.txt\\n          2\n",
      "7    1          3  matrix0  in/in1.conf  out/out1_1.txt\\n         \\n\n"
     ]
    }
   ],
   "source": [
    "f=open(\"out/out1_1.txt\", \"r\")\n",
    "f1= f.readlines()\n",
    "general = {}\n",
    "firmSpecific = {}\n",
    "\n",
    "for x in f1:\n",
    "    firstChar = x.split(\"\\t\")[0]\n",
    "    if firstChar == \"T\":\n",
    "        result[\"settings\"] = x\n",
    "    elif firstChar == \"C\":\n",
    "        result[\"components\"] = x;\n",
    "    elif firstChar == \"L\":\n",
    "        pass\n",
    "    elif firstChar == \"N\":\n",
    "        pass\n",
    "    else:\n",
    "        pass\n",
    "\n",
    "dataframe = pd.DataFrame(general)\n",
    "print(dataframe)"
   ]
  },
  {
   "cell_type": "code",
   "execution_count": null,
   "metadata": {},
   "outputs": [],
   "source": []
  }
 ],
 "metadata": {
  "kernelspec": {
   "display_name": "Python 3",
   "language": "python",
   "name": "python3"
  },
  "language_info": {
   "codemirror_mode": {
    "name": "ipython",
    "version": 3
   },
   "file_extension": ".py",
   "mimetype": "text/x-python",
   "name": "python",
   "nbconvert_exporter": "python",
   "pygments_lexer": "ipython3",
   "version": "3.7.0"
  }
 },
 "nbformat": 4,
 "nbformat_minor": 2
}
